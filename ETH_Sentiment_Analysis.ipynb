{
  "nbformat": 4,
  "nbformat_minor": 0,
  "metadata": {
    "colab": {
      "provenance": [],
      "authorship_tag": "ABX9TyP1+IaRoIIZKzLfRcAYGyI6",
      "include_colab_link": true
    },
    "kernelspec": {
      "name": "python3",
      "display_name": "Python 3"
    },
    "language_info": {
      "name": "python"
    }
  },
  "cells": [
    {
      "cell_type": "markdown",
      "metadata": {
        "id": "view-in-github",
        "colab_type": "text"
      },
      "source": [
        "<a href=\"https://colab.research.google.com/github/geee05/Prophet-Library/blob/main/ETH_Sentiment_Analysis.ipynb\" target=\"_parent\"><img src=\"https://colab.research.google.com/assets/colab-badge.svg\" alt=\"Open In Colab\"/></a>"
      ]
    },
    {
      "cell_type": "markdown",
      "source": [
        "## IMPORTING THE DATA :"
      ],
      "metadata": {
        "id": "9RPjxP2R7cYL"
      }
    },
    {
      "cell_type": "code",
      "execution_count": 1,
      "metadata": {
        "colab": {
          "base_uri": "https://localhost:8080/",
          "height": 444
        },
        "id": "Lk5AOwpHxu4N",
        "outputId": "607a4932-f835-4127-f89e-2b28a12de7e4"
      },
      "outputs": [
        {
          "output_type": "execute_result",
          "data": {
            "text/plain": [
              "                    user_name user_location  \\\n",
              "0  #1 Crypto Currency TRADING           NaN   \n",
              "1                      Reyrey  Kuala Lumpur   \n",
              "2                 akter jahan           NaN   \n",
              "3                       riyan           NaN   \n",
              "4            Michelle Eriksen           NaN   \n",
              "\n",
              "                                    user_description  \\\n",
              "0  Profit thought trading, Learn , Trade & Earn💲....   \n",
              "1  Artist | NFT Broker & Collector for AnideaNFT ...   \n",
              "2                                                NaN   \n",
              "3                  i always paricipated your project   \n",
              "4                           Art Creator, NFT, Crypto   \n",
              "\n",
              "                user_created  user_followers  user_friends  user_favourites  \\\n",
              "0  2021-11-10 10:42:01+00:00               4             0                0   \n",
              "1  2011-03-07 07:22:57+00:00             343           650              589   \n",
              "2  2021-10-28 13:28:05+00:00               1             2                0   \n",
              "3  2021-09-16 16:59:11+00:00              11           127               99   \n",
              "4  2021-08-11 06:40:08+00:00             522          1428               16   \n",
              "\n",
              "   user_verified                       date  \\\n",
              "0          False  2021-11-15 07:26:39+00:00   \n",
              "1          False  2021-11-15 07:26:35+00:00   \n",
              "2          False  2021-11-15 07:26:32+00:00   \n",
              "3          False  2021-11-15 07:26:30+00:00   \n",
              "4          False  2021-11-15 07:26:30+00:00   \n",
              "\n",
              "                                                text  \\\n",
              "0  Get upto 1000 that’s 10x with our premium spot...   \n",
              "1  Adopted a Hypocat #053, “Crazy Rich Cat” 🤑💵💵💵🤩...   \n",
              "2  Top 10 Coins by Social Engagement over the las...   \n",
              "3  Requesting faucet funds into 0x5278942b39deD8c...   \n",
              "4  New Listing BTS 0.008ETH !! \\n#NFTs  #nftcolle...   \n",
              "\n",
              "                                            hashtags               source  \\\n",
              "0                                                NaN  Twitter for Android   \n",
              "1  ['SupportingCreators', 'CryptoArt', 'CryptoArt...   Twitter for iPhone   \n",
              "2              ['LunarCrush', 'bitcoin', 'dogecoin']      Twitter Web App   \n",
              "3                            ['Rinkeby', 'Ethereum']      Twitter Web App   \n",
              "4  ['NFTs', 'nftcollector', 'NFTCommunity', 'art'...      Twitter Web App   \n",
              "\n",
              "   is_retweet  \n",
              "0       False  \n",
              "1       False  \n",
              "2       False  \n",
              "3       False  \n",
              "4       False  "
            ],
            "text/html": [
              "\n",
              "  <div id=\"df-1d58ee91-91b2-43bc-9eb1-b37ee81a80e9\">\n",
              "    <div class=\"colab-df-container\">\n",
              "      <div>\n",
              "<style scoped>\n",
              "    .dataframe tbody tr th:only-of-type {\n",
              "        vertical-align: middle;\n",
              "    }\n",
              "\n",
              "    .dataframe tbody tr th {\n",
              "        vertical-align: top;\n",
              "    }\n",
              "\n",
              "    .dataframe thead th {\n",
              "        text-align: right;\n",
              "    }\n",
              "</style>\n",
              "<table border=\"1\" class=\"dataframe\">\n",
              "  <thead>\n",
              "    <tr style=\"text-align: right;\">\n",
              "      <th></th>\n",
              "      <th>user_name</th>\n",
              "      <th>user_location</th>\n",
              "      <th>user_description</th>\n",
              "      <th>user_created</th>\n",
              "      <th>user_followers</th>\n",
              "      <th>user_friends</th>\n",
              "      <th>user_favourites</th>\n",
              "      <th>user_verified</th>\n",
              "      <th>date</th>\n",
              "      <th>text</th>\n",
              "      <th>hashtags</th>\n",
              "      <th>source</th>\n",
              "      <th>is_retweet</th>\n",
              "    </tr>\n",
              "  </thead>\n",
              "  <tbody>\n",
              "    <tr>\n",
              "      <th>0</th>\n",
              "      <td>#1 Crypto Currency TRADING</td>\n",
              "      <td>NaN</td>\n",
              "      <td>Profit thought trading, Learn , Trade &amp; Earn💲....</td>\n",
              "      <td>2021-11-10 10:42:01+00:00</td>\n",
              "      <td>4</td>\n",
              "      <td>0</td>\n",
              "      <td>0</td>\n",
              "      <td>False</td>\n",
              "      <td>2021-11-15 07:26:39+00:00</td>\n",
              "      <td>Get upto 1000 that’s 10x with our premium spot...</td>\n",
              "      <td>NaN</td>\n",
              "      <td>Twitter for Android</td>\n",
              "      <td>False</td>\n",
              "    </tr>\n",
              "    <tr>\n",
              "      <th>1</th>\n",
              "      <td>Reyrey</td>\n",
              "      <td>Kuala Lumpur</td>\n",
              "      <td>Artist | NFT Broker &amp; Collector for AnideaNFT ...</td>\n",
              "      <td>2011-03-07 07:22:57+00:00</td>\n",
              "      <td>343</td>\n",
              "      <td>650</td>\n",
              "      <td>589</td>\n",
              "      <td>False</td>\n",
              "      <td>2021-11-15 07:26:35+00:00</td>\n",
              "      <td>Adopted a Hypocat #053, “Crazy Rich Cat” 🤑💵💵💵🤩...</td>\n",
              "      <td>['SupportingCreators', 'CryptoArt', 'CryptoArt...</td>\n",
              "      <td>Twitter for iPhone</td>\n",
              "      <td>False</td>\n",
              "    </tr>\n",
              "    <tr>\n",
              "      <th>2</th>\n",
              "      <td>akter jahan</td>\n",
              "      <td>NaN</td>\n",
              "      <td>NaN</td>\n",
              "      <td>2021-10-28 13:28:05+00:00</td>\n",
              "      <td>1</td>\n",
              "      <td>2</td>\n",
              "      <td>0</td>\n",
              "      <td>False</td>\n",
              "      <td>2021-11-15 07:26:32+00:00</td>\n",
              "      <td>Top 10 Coins by Social Engagement over the las...</td>\n",
              "      <td>['LunarCrush', 'bitcoin', 'dogecoin']</td>\n",
              "      <td>Twitter Web App</td>\n",
              "      <td>False</td>\n",
              "    </tr>\n",
              "    <tr>\n",
              "      <th>3</th>\n",
              "      <td>riyan</td>\n",
              "      <td>NaN</td>\n",
              "      <td>i always paricipated your project</td>\n",
              "      <td>2021-09-16 16:59:11+00:00</td>\n",
              "      <td>11</td>\n",
              "      <td>127</td>\n",
              "      <td>99</td>\n",
              "      <td>False</td>\n",
              "      <td>2021-11-15 07:26:30+00:00</td>\n",
              "      <td>Requesting faucet funds into 0x5278942b39deD8c...</td>\n",
              "      <td>['Rinkeby', 'Ethereum']</td>\n",
              "      <td>Twitter Web App</td>\n",
              "      <td>False</td>\n",
              "    </tr>\n",
              "    <tr>\n",
              "      <th>4</th>\n",
              "      <td>Michelle Eriksen</td>\n",
              "      <td>NaN</td>\n",
              "      <td>Art Creator, NFT, Crypto</td>\n",
              "      <td>2021-08-11 06:40:08+00:00</td>\n",
              "      <td>522</td>\n",
              "      <td>1428</td>\n",
              "      <td>16</td>\n",
              "      <td>False</td>\n",
              "      <td>2021-11-15 07:26:30+00:00</td>\n",
              "      <td>New Listing BTS 0.008ETH !! \\n#NFTs  #nftcolle...</td>\n",
              "      <td>['NFTs', 'nftcollector', 'NFTCommunity', 'art'...</td>\n",
              "      <td>Twitter Web App</td>\n",
              "      <td>False</td>\n",
              "    </tr>\n",
              "  </tbody>\n",
              "</table>\n",
              "</div>\n",
              "      <button class=\"colab-df-convert\" onclick=\"convertToInteractive('df-1d58ee91-91b2-43bc-9eb1-b37ee81a80e9')\"\n",
              "              title=\"Convert this dataframe to an interactive table.\"\n",
              "              style=\"display:none;\">\n",
              "        \n",
              "  <svg xmlns=\"http://www.w3.org/2000/svg\" height=\"24px\"viewBox=\"0 0 24 24\"\n",
              "       width=\"24px\">\n",
              "    <path d=\"M0 0h24v24H0V0z\" fill=\"none\"/>\n",
              "    <path d=\"M18.56 5.44l.94 2.06.94-2.06 2.06-.94-2.06-.94-.94-2.06-.94 2.06-2.06.94zm-11 1L8.5 8.5l.94-2.06 2.06-.94-2.06-.94L8.5 2.5l-.94 2.06-2.06.94zm10 10l.94 2.06.94-2.06 2.06-.94-2.06-.94-.94-2.06-.94 2.06-2.06.94z\"/><path d=\"M17.41 7.96l-1.37-1.37c-.4-.4-.92-.59-1.43-.59-.52 0-1.04.2-1.43.59L10.3 9.45l-7.72 7.72c-.78.78-.78 2.05 0 2.83L4 21.41c.39.39.9.59 1.41.59.51 0 1.02-.2 1.41-.59l7.78-7.78 2.81-2.81c.8-.78.8-2.07 0-2.86zM5.41 20L4 18.59l7.72-7.72 1.47 1.35L5.41 20z\"/>\n",
              "  </svg>\n",
              "      </button>\n",
              "      \n",
              "  <style>\n",
              "    .colab-df-container {\n",
              "      display:flex;\n",
              "      flex-wrap:wrap;\n",
              "      gap: 12px;\n",
              "    }\n",
              "\n",
              "    .colab-df-convert {\n",
              "      background-color: #E8F0FE;\n",
              "      border: none;\n",
              "      border-radius: 50%;\n",
              "      cursor: pointer;\n",
              "      display: none;\n",
              "      fill: #1967D2;\n",
              "      height: 32px;\n",
              "      padding: 0 0 0 0;\n",
              "      width: 32px;\n",
              "    }\n",
              "\n",
              "    .colab-df-convert:hover {\n",
              "      background-color: #E2EBFA;\n",
              "      box-shadow: 0px 1px 2px rgba(60, 64, 67, 0.3), 0px 1px 3px 1px rgba(60, 64, 67, 0.15);\n",
              "      fill: #174EA6;\n",
              "    }\n",
              "\n",
              "    [theme=dark] .colab-df-convert {\n",
              "      background-color: #3B4455;\n",
              "      fill: #D2E3FC;\n",
              "    }\n",
              "\n",
              "    [theme=dark] .colab-df-convert:hover {\n",
              "      background-color: #434B5C;\n",
              "      box-shadow: 0px 1px 3px 1px rgba(0, 0, 0, 0.15);\n",
              "      filter: drop-shadow(0px 1px 2px rgba(0, 0, 0, 0.3));\n",
              "      fill: #FFFFFF;\n",
              "    }\n",
              "  </style>\n",
              "\n",
              "      <script>\n",
              "        const buttonEl =\n",
              "          document.querySelector('#df-1d58ee91-91b2-43bc-9eb1-b37ee81a80e9 button.colab-df-convert');\n",
              "        buttonEl.style.display =\n",
              "          google.colab.kernel.accessAllowed ? 'block' : 'none';\n",
              "\n",
              "        async function convertToInteractive(key) {\n",
              "          const element = document.querySelector('#df-1d58ee91-91b2-43bc-9eb1-b37ee81a80e9');\n",
              "          const dataTable =\n",
              "            await google.colab.kernel.invokeFunction('convertToInteractive',\n",
              "                                                     [key], {});\n",
              "          if (!dataTable) return;\n",
              "\n",
              "          const docLinkHtml = 'Like what you see? Visit the ' +\n",
              "            '<a target=\"_blank\" href=https://colab.research.google.com/notebooks/data_table.ipynb>data table notebook</a>'\n",
              "            + ' to learn more about interactive tables.';\n",
              "          element.innerHTML = '';\n",
              "          dataTable['output_type'] = 'display_data';\n",
              "          await google.colab.output.renderOutput(dataTable, element);\n",
              "          const docLink = document.createElement('div');\n",
              "          docLink.innerHTML = docLinkHtml;\n",
              "          element.appendChild(docLink);\n",
              "        }\n",
              "      </script>\n",
              "    </div>\n",
              "  </div>\n",
              "  "
            ]
          },
          "metadata": {},
          "execution_count": 1
        }
      ],
      "source": [
        "import pandas as pd\n",
        "\n",
        "df = pd.read_csv(\"/content/Ethereum_tweets.csv\")\n",
        "\n",
        "df.head()"
      ]
    },
    {
      "cell_type": "code",
      "source": [
        "df.info()"
      ],
      "metadata": {
        "colab": {
          "base_uri": "https://localhost:8080/"
        },
        "id": "S3iVkTs_yNXQ",
        "outputId": "b3f183a5-0cd4-411e-c62c-04e0ffa93a24"
      },
      "execution_count": 2,
      "outputs": [
        {
          "output_type": "stream",
          "name": "stdout",
          "text": [
            "<class 'pandas.core.frame.DataFrame'>\n",
            "RangeIndex: 10000 entries, 0 to 9999\n",
            "Data columns (total 13 columns):\n",
            " #   Column            Non-Null Count  Dtype \n",
            "---  ------            --------------  ----- \n",
            " 0   user_name         10000 non-null  object\n",
            " 1   user_location     4961 non-null   object\n",
            " 2   user_description  8628 non-null   object\n",
            " 3   user_created      10000 non-null  object\n",
            " 4   user_followers    10000 non-null  int64 \n",
            " 5   user_friends      10000 non-null  int64 \n",
            " 6   user_favourites   10000 non-null  int64 \n",
            " 7   user_verified     10000 non-null  bool  \n",
            " 8   date              10000 non-null  object\n",
            " 9   text              10000 non-null  object\n",
            " 10  hashtags          7528 non-null   object\n",
            " 11  source            10000 non-null  object\n",
            " 12  is_retweet        10000 non-null  bool  \n",
            "dtypes: bool(2), int64(3), object(8)\n",
            "memory usage: 879.0+ KB\n"
          ]
        }
      ]
    },
    {
      "cell_type": "code",
      "source": [
        "df.isnull().sum()"
      ],
      "metadata": {
        "colab": {
          "base_uri": "https://localhost:8080/"
        },
        "id": "WVbD-KySyQF-",
        "outputId": "d4d5c4f2-103c-472e-8b64-5cba81e45c89"
      },
      "execution_count": 3,
      "outputs": [
        {
          "output_type": "execute_result",
          "data": {
            "text/plain": [
              "user_name              0\n",
              "user_location       5039\n",
              "user_description    1372\n",
              "user_created           0\n",
              "user_followers         0\n",
              "user_friends           0\n",
              "user_favourites        0\n",
              "user_verified          0\n",
              "date                   0\n",
              "text                   0\n",
              "hashtags            2472\n",
              "source                 0\n",
              "is_retweet             0\n",
              "dtype: int64"
            ]
          },
          "metadata": {},
          "execution_count": 3
        }
      ]
    },
    {
      "cell_type": "code",
      "source": [
        "data = df[[\"user_name\",\"text\"]]\n",
        "data.head()"
      ],
      "metadata": {
        "colab": {
          "base_uri": "https://localhost:8080/",
          "height": 206
        },
        "id": "wFbqe5R7yT0h",
        "outputId": "27562f3f-d04e-4c2f-bc66-66a2d744cf48"
      },
      "execution_count": 4,
      "outputs": [
        {
          "output_type": "execute_result",
          "data": {
            "text/plain": [
              "                    user_name  \\\n",
              "0  #1 Crypto Currency TRADING   \n",
              "1                      Reyrey   \n",
              "2                 akter jahan   \n",
              "3                       riyan   \n",
              "4            Michelle Eriksen   \n",
              "\n",
              "                                                text  \n",
              "0  Get upto 1000 that’s 10x with our premium spot...  \n",
              "1  Adopted a Hypocat #053, “Crazy Rich Cat” 🤑💵💵💵🤩...  \n",
              "2  Top 10 Coins by Social Engagement over the las...  \n",
              "3  Requesting faucet funds into 0x5278942b39deD8c...  \n",
              "4  New Listing BTS 0.008ETH !! \\n#NFTs  #nftcolle...  "
            ],
            "text/html": [
              "\n",
              "  <div id=\"df-ceaedb49-2402-4215-841b-fa482536ba1e\">\n",
              "    <div class=\"colab-df-container\">\n",
              "      <div>\n",
              "<style scoped>\n",
              "    .dataframe tbody tr th:only-of-type {\n",
              "        vertical-align: middle;\n",
              "    }\n",
              "\n",
              "    .dataframe tbody tr th {\n",
              "        vertical-align: top;\n",
              "    }\n",
              "\n",
              "    .dataframe thead th {\n",
              "        text-align: right;\n",
              "    }\n",
              "</style>\n",
              "<table border=\"1\" class=\"dataframe\">\n",
              "  <thead>\n",
              "    <tr style=\"text-align: right;\">\n",
              "      <th></th>\n",
              "      <th>user_name</th>\n",
              "      <th>text</th>\n",
              "    </tr>\n",
              "  </thead>\n",
              "  <tbody>\n",
              "    <tr>\n",
              "      <th>0</th>\n",
              "      <td>#1 Crypto Currency TRADING</td>\n",
              "      <td>Get upto 1000 that’s 10x with our premium spot...</td>\n",
              "    </tr>\n",
              "    <tr>\n",
              "      <th>1</th>\n",
              "      <td>Reyrey</td>\n",
              "      <td>Adopted a Hypocat #053, “Crazy Rich Cat” 🤑💵💵💵🤩...</td>\n",
              "    </tr>\n",
              "    <tr>\n",
              "      <th>2</th>\n",
              "      <td>akter jahan</td>\n",
              "      <td>Top 10 Coins by Social Engagement over the las...</td>\n",
              "    </tr>\n",
              "    <tr>\n",
              "      <th>3</th>\n",
              "      <td>riyan</td>\n",
              "      <td>Requesting faucet funds into 0x5278942b39deD8c...</td>\n",
              "    </tr>\n",
              "    <tr>\n",
              "      <th>4</th>\n",
              "      <td>Michelle Eriksen</td>\n",
              "      <td>New Listing BTS 0.008ETH !! \\n#NFTs  #nftcolle...</td>\n",
              "    </tr>\n",
              "  </tbody>\n",
              "</table>\n",
              "</div>\n",
              "      <button class=\"colab-df-convert\" onclick=\"convertToInteractive('df-ceaedb49-2402-4215-841b-fa482536ba1e')\"\n",
              "              title=\"Convert this dataframe to an interactive table.\"\n",
              "              style=\"display:none;\">\n",
              "        \n",
              "  <svg xmlns=\"http://www.w3.org/2000/svg\" height=\"24px\"viewBox=\"0 0 24 24\"\n",
              "       width=\"24px\">\n",
              "    <path d=\"M0 0h24v24H0V0z\" fill=\"none\"/>\n",
              "    <path d=\"M18.56 5.44l.94 2.06.94-2.06 2.06-.94-2.06-.94-.94-2.06-.94 2.06-2.06.94zm-11 1L8.5 8.5l.94-2.06 2.06-.94-2.06-.94L8.5 2.5l-.94 2.06-2.06.94zm10 10l.94 2.06.94-2.06 2.06-.94-2.06-.94-.94-2.06-.94 2.06-2.06.94z\"/><path d=\"M17.41 7.96l-1.37-1.37c-.4-.4-.92-.59-1.43-.59-.52 0-1.04.2-1.43.59L10.3 9.45l-7.72 7.72c-.78.78-.78 2.05 0 2.83L4 21.41c.39.39.9.59 1.41.59.51 0 1.02-.2 1.41-.59l7.78-7.78 2.81-2.81c.8-.78.8-2.07 0-2.86zM5.41 20L4 18.59l7.72-7.72 1.47 1.35L5.41 20z\"/>\n",
              "  </svg>\n",
              "      </button>\n",
              "      \n",
              "  <style>\n",
              "    .colab-df-container {\n",
              "      display:flex;\n",
              "      flex-wrap:wrap;\n",
              "      gap: 12px;\n",
              "    }\n",
              "\n",
              "    .colab-df-convert {\n",
              "      background-color: #E8F0FE;\n",
              "      border: none;\n",
              "      border-radius: 50%;\n",
              "      cursor: pointer;\n",
              "      display: none;\n",
              "      fill: #1967D2;\n",
              "      height: 32px;\n",
              "      padding: 0 0 0 0;\n",
              "      width: 32px;\n",
              "    }\n",
              "\n",
              "    .colab-df-convert:hover {\n",
              "      background-color: #E2EBFA;\n",
              "      box-shadow: 0px 1px 2px rgba(60, 64, 67, 0.3), 0px 1px 3px 1px rgba(60, 64, 67, 0.15);\n",
              "      fill: #174EA6;\n",
              "    }\n",
              "\n",
              "    [theme=dark] .colab-df-convert {\n",
              "      background-color: #3B4455;\n",
              "      fill: #D2E3FC;\n",
              "    }\n",
              "\n",
              "    [theme=dark] .colab-df-convert:hover {\n",
              "      background-color: #434B5C;\n",
              "      box-shadow: 0px 1px 3px 1px rgba(0, 0, 0, 0.15);\n",
              "      filter: drop-shadow(0px 1px 2px rgba(0, 0, 0, 0.3));\n",
              "      fill: #FFFFFF;\n",
              "    }\n",
              "  </style>\n",
              "\n",
              "      <script>\n",
              "        const buttonEl =\n",
              "          document.querySelector('#df-ceaedb49-2402-4215-841b-fa482536ba1e button.colab-df-convert');\n",
              "        buttonEl.style.display =\n",
              "          google.colab.kernel.accessAllowed ? 'block' : 'none';\n",
              "\n",
              "        async function convertToInteractive(key) {\n",
              "          const element = document.querySelector('#df-ceaedb49-2402-4215-841b-fa482536ba1e');\n",
              "          const dataTable =\n",
              "            await google.colab.kernel.invokeFunction('convertToInteractive',\n",
              "                                                     [key], {});\n",
              "          if (!dataTable) return;\n",
              "\n",
              "          const docLinkHtml = 'Like what you see? Visit the ' +\n",
              "            '<a target=\"_blank\" href=https://colab.research.google.com/notebooks/data_table.ipynb>data table notebook</a>'\n",
              "            + ' to learn more about interactive tables.';\n",
              "          element.innerHTML = '';\n",
              "          dataTable['output_type'] = 'display_data';\n",
              "          await google.colab.output.renderOutput(dataTable, element);\n",
              "          const docLink = document.createElement('div');\n",
              "          docLink.innerHTML = docLinkHtml;\n",
              "          element.appendChild(docLink);\n",
              "        }\n",
              "      </script>\n",
              "    </div>\n",
              "  </div>\n",
              "  "
            ]
          },
          "metadata": {},
          "execution_count": 4
        }
      ]
    },
    {
      "cell_type": "markdown",
      "source": [
        "## DATA PREPROCESSING:"
      ],
      "metadata": {
        "id": "q8jZ9zpu7wH0"
      }
    },
    {
      "cell_type": "code",
      "source": [
        "import re\n",
        "from gensim.parsing.preprocessing import remove_stopwords\n",
        "import string\n",
        "import unicodedata\n",
        "\n",
        "def lower_case(text):\n",
        "    return text.lower()\n",
        "\n",
        "def remove_punctuation(text):\n",
        "    text_list = [char for char in text if char not in string.punctuation]\n",
        "    clean_text = \"\".join(text_list)\n",
        "    return clean_text\n",
        "\n",
        "def remove_numbers(text):\n",
        "    text_list = []\n",
        "    for i in text:\n",
        "        if not re.search(\"\\d\", i):\n",
        "            text_list.append(i)\n",
        "    return \"\".join(text_list)\n",
        "\n",
        "def remove_special_char(text):\n",
        "    pattern =  r'[^a-zA-z0-9]'\n",
        "    return re.sub(pattern, \" \", text)\n",
        "\n",
        "\n",
        "def remove_square_bracket(text):\n",
        "    clean_text = re.sub(r'\\[[0-9]*\\]', ' ', text)\n",
        "    return clean_text\n",
        "\n",
        "def remove_white_spaces_char(text):\n",
        "    clean_text = re.sub(r'\\s+', ' ', text)\n",
        "\n",
        "    return clean_text\n",
        "\n",
        "def remove_unicode_char(text):\n",
        "    new_text = unicodedata.normalize('NFKD', text).encode('ascii', 'ignore').decode('utf-8', 'ignore')\n",
        "    return new_text\n",
        "\n",
        "\n",
        "def remove_user(text):\n",
        "    clean_text = re.sub('(@[A-Za-z]+[A-Za-z0-9-_]+)', '', text)\n",
        "\n",
        "    return clean_text\n",
        "\n",
        "def remove_links(text):\n",
        "    clean_text = re.sub(r'http\\S+', '', text)\n",
        "    clean_text = re.sub(r'bit.ly/\\S+', '', text)\n",
        "    clean_text = clean_text.strip('[link]')\n",
        "\n",
        "    return clean_text\n",
        "\n",
        "def remove_html(text):\n",
        "    html = re.compile('<.*?>')\n",
        "\n",
        "    return html.sub(r'',text)\n",
        "\n",
        "def remove_email(text):\n",
        "    email = re.compile(r'[\\w\\.-]+@[\\w\\.-]+')\n",
        "    return email.sub(r'',text)\n",
        "\n",
        "def remove_stopwords_from_text(text):\n",
        "    clean_text = remove_stopwords(text)\n",
        "    return clean_text"
      ],
      "metadata": {
        "id": "P_rAKWO-ylHx"
      },
      "execution_count": 5,
      "outputs": []
    },
    {
      "cell_type": "code",
      "source": [
        "data[\"clean_text\"] = data[\"text\"].apply(lower_case)\n",
        "data[\"clean_text\"] = data[\"clean_text\"].apply(remove_punctuation)\n",
        "data[\"clean_text\"] = data[\"clean_text\"].apply(remove_numbers)\n",
        "data[\"clean_text\"] = data[\"clean_text\"].apply(remove_special_char)\n",
        "data[\"clean_text\"] = data[\"clean_text\"].apply(remove_square_bracket)\n",
        "data[\"clean_text\"] = data[\"clean_text\"].apply(remove_white_spaces_char)\n",
        "data[\"clean_text\"] = data[\"clean_text\"].apply(remove_unicode_char)\n",
        "data[\"clean_text\"] = data[\"clean_text\"].apply(remove_user)\n",
        "data[\"clean_text\"] = data[\"clean_text\"].apply(remove_links)\n",
        "data[\"clean_text\"] = data[\"clean_text\"].apply(remove_html)\n",
        "data[\"clean_text\"] = data[\"clean_text\"].apply(remove_email)\n",
        "data[\"clean_text\"] = data[\"clean_text\"].apply(remove_stopwords_from_text)"
      ],
      "metadata": {
        "colab": {
          "base_uri": "https://localhost:8080/"
        },
        "id": "4OL2QjUo0_UK",
        "outputId": "77354c7e-cdd3-40a0-ee81-1a1409713d28"
      },
      "execution_count": 6,
      "outputs": [
        {
          "output_type": "stream",
          "name": "stderr",
          "text": [
            "<ipython-input-6-3c9c09841a40>:1: SettingWithCopyWarning: \n",
            "A value is trying to be set on a copy of a slice from a DataFrame.\n",
            "Try using .loc[row_indexer,col_indexer] = value instead\n",
            "\n",
            "See the caveats in the documentation: https://pandas.pydata.org/pandas-docs/stable/user_guide/indexing.html#returning-a-view-versus-a-copy\n",
            "  data[\"clean_text\"] = data[\"text\"].apply(lower_case)\n",
            "<ipython-input-6-3c9c09841a40>:2: SettingWithCopyWarning: \n",
            "A value is trying to be set on a copy of a slice from a DataFrame.\n",
            "Try using .loc[row_indexer,col_indexer] = value instead\n",
            "\n",
            "See the caveats in the documentation: https://pandas.pydata.org/pandas-docs/stable/user_guide/indexing.html#returning-a-view-versus-a-copy\n",
            "  data[\"clean_text\"] = data[\"clean_text\"].apply(remove_punctuation)\n",
            "<ipython-input-6-3c9c09841a40>:3: SettingWithCopyWarning: \n",
            "A value is trying to be set on a copy of a slice from a DataFrame.\n",
            "Try using .loc[row_indexer,col_indexer] = value instead\n",
            "\n",
            "See the caveats in the documentation: https://pandas.pydata.org/pandas-docs/stable/user_guide/indexing.html#returning-a-view-versus-a-copy\n",
            "  data[\"clean_text\"] = data[\"clean_text\"].apply(remove_numbers)\n",
            "<ipython-input-6-3c9c09841a40>:4: SettingWithCopyWarning: \n",
            "A value is trying to be set on a copy of a slice from a DataFrame.\n",
            "Try using .loc[row_indexer,col_indexer] = value instead\n",
            "\n",
            "See the caveats in the documentation: https://pandas.pydata.org/pandas-docs/stable/user_guide/indexing.html#returning-a-view-versus-a-copy\n",
            "  data[\"clean_text\"] = data[\"clean_text\"].apply(remove_special_char)\n",
            "<ipython-input-6-3c9c09841a40>:5: SettingWithCopyWarning: \n",
            "A value is trying to be set on a copy of a slice from a DataFrame.\n",
            "Try using .loc[row_indexer,col_indexer] = value instead\n",
            "\n",
            "See the caveats in the documentation: https://pandas.pydata.org/pandas-docs/stable/user_guide/indexing.html#returning-a-view-versus-a-copy\n",
            "  data[\"clean_text\"] = data[\"clean_text\"].apply(remove_square_bracket)\n",
            "<ipython-input-6-3c9c09841a40>:6: SettingWithCopyWarning: \n",
            "A value is trying to be set on a copy of a slice from a DataFrame.\n",
            "Try using .loc[row_indexer,col_indexer] = value instead\n",
            "\n",
            "See the caveats in the documentation: https://pandas.pydata.org/pandas-docs/stable/user_guide/indexing.html#returning-a-view-versus-a-copy\n",
            "  data[\"clean_text\"] = data[\"clean_text\"].apply(remove_white_spaces_char)\n",
            "<ipython-input-6-3c9c09841a40>:7: SettingWithCopyWarning: \n",
            "A value is trying to be set on a copy of a slice from a DataFrame.\n",
            "Try using .loc[row_indexer,col_indexer] = value instead\n",
            "\n",
            "See the caveats in the documentation: https://pandas.pydata.org/pandas-docs/stable/user_guide/indexing.html#returning-a-view-versus-a-copy\n",
            "  data[\"clean_text\"] = data[\"clean_text\"].apply(remove_unicode_char)\n",
            "<ipython-input-6-3c9c09841a40>:8: SettingWithCopyWarning: \n",
            "A value is trying to be set on a copy of a slice from a DataFrame.\n",
            "Try using .loc[row_indexer,col_indexer] = value instead\n",
            "\n",
            "See the caveats in the documentation: https://pandas.pydata.org/pandas-docs/stable/user_guide/indexing.html#returning-a-view-versus-a-copy\n",
            "  data[\"clean_text\"] = data[\"clean_text\"].apply(remove_user)\n",
            "<ipython-input-6-3c9c09841a40>:9: SettingWithCopyWarning: \n",
            "A value is trying to be set on a copy of a slice from a DataFrame.\n",
            "Try using .loc[row_indexer,col_indexer] = value instead\n",
            "\n",
            "See the caveats in the documentation: https://pandas.pydata.org/pandas-docs/stable/user_guide/indexing.html#returning-a-view-versus-a-copy\n",
            "  data[\"clean_text\"] = data[\"clean_text\"].apply(remove_links)\n",
            "<ipython-input-6-3c9c09841a40>:10: SettingWithCopyWarning: \n",
            "A value is trying to be set on a copy of a slice from a DataFrame.\n",
            "Try using .loc[row_indexer,col_indexer] = value instead\n",
            "\n",
            "See the caveats in the documentation: https://pandas.pydata.org/pandas-docs/stable/user_guide/indexing.html#returning-a-view-versus-a-copy\n",
            "  data[\"clean_text\"] = data[\"clean_text\"].apply(remove_html)\n",
            "<ipython-input-6-3c9c09841a40>:11: SettingWithCopyWarning: \n",
            "A value is trying to be set on a copy of a slice from a DataFrame.\n",
            "Try using .loc[row_indexer,col_indexer] = value instead\n",
            "\n",
            "See the caveats in the documentation: https://pandas.pydata.org/pandas-docs/stable/user_guide/indexing.html#returning-a-view-versus-a-copy\n",
            "  data[\"clean_text\"] = data[\"clean_text\"].apply(remove_email)\n",
            "<ipython-input-6-3c9c09841a40>:12: SettingWithCopyWarning: \n",
            "A value is trying to be set on a copy of a slice from a DataFrame.\n",
            "Try using .loc[row_indexer,col_indexer] = value instead\n",
            "\n",
            "See the caveats in the documentation: https://pandas.pydata.org/pandas-docs/stable/user_guide/indexing.html#returning-a-view-versus-a-copy\n",
            "  data[\"clean_text\"] = data[\"clean_text\"].apply(remove_stopwords_from_text)\n"
          ]
        }
      ]
    },
    {
      "cell_type": "code",
      "source": [
        "data.head()"
      ],
      "metadata": {
        "colab": {
          "base_uri": "https://localhost:8080/",
          "height": 206
        },
        "id": "jhBFkmGc2w7R",
        "outputId": "68477e06-c454-4d7e-fb08-ad0c83fb81f6"
      },
      "execution_count": 7,
      "outputs": [
        {
          "output_type": "execute_result",
          "data": {
            "text/plain": [
              "                    user_name  \\\n",
              "0  #1 Crypto Currency TRADING   \n",
              "1                      Reyrey   \n",
              "2                 akter jahan   \n",
              "3                       riyan   \n",
              "4            Michelle Eriksen   \n",
              "\n",
              "                                                text  \\\n",
              "0  Get upto 1000 that’s 10x with our premium spot...   \n",
              "1  Adopted a Hypocat #053, “Crazy Rich Cat” 🤑💵💵💵🤩...   \n",
              "2  Top 10 Coins by Social Engagement over the las...   \n",
              "3  Requesting faucet funds into 0x5278942b39deD8c...   \n",
              "4  New Listing BTS 0.008ETH !! \\n#NFTs  #nftcolle...   \n",
              "\n",
              "                                          clean_text  \n",
              "0  upto s x premium spot trading signals accurate...  \n",
              "1  adopted hypocat crazy rich cat hypocatclub meo...  \n",
              "2  coins social engagement hrs lunarcrush btc bit...  \n",
              "3  requesting faucet funds xbdedcbdadeaecefdca ri...  \n",
              "4  ew listing bts eth nfts nftcollector nftcommun...  "
            ],
            "text/html": [
              "\n",
              "  <div id=\"df-fe67473f-3feb-4aaf-b6c3-a1d069ad6a1b\">\n",
              "    <div class=\"colab-df-container\">\n",
              "      <div>\n",
              "<style scoped>\n",
              "    .dataframe tbody tr th:only-of-type {\n",
              "        vertical-align: middle;\n",
              "    }\n",
              "\n",
              "    .dataframe tbody tr th {\n",
              "        vertical-align: top;\n",
              "    }\n",
              "\n",
              "    .dataframe thead th {\n",
              "        text-align: right;\n",
              "    }\n",
              "</style>\n",
              "<table border=\"1\" class=\"dataframe\">\n",
              "  <thead>\n",
              "    <tr style=\"text-align: right;\">\n",
              "      <th></th>\n",
              "      <th>user_name</th>\n",
              "      <th>text</th>\n",
              "      <th>clean_text</th>\n",
              "    </tr>\n",
              "  </thead>\n",
              "  <tbody>\n",
              "    <tr>\n",
              "      <th>0</th>\n",
              "      <td>#1 Crypto Currency TRADING</td>\n",
              "      <td>Get upto 1000 that’s 10x with our premium spot...</td>\n",
              "      <td>upto s x premium spot trading signals accurate...</td>\n",
              "    </tr>\n",
              "    <tr>\n",
              "      <th>1</th>\n",
              "      <td>Reyrey</td>\n",
              "      <td>Adopted a Hypocat #053, “Crazy Rich Cat” 🤑💵💵💵🤩...</td>\n",
              "      <td>adopted hypocat crazy rich cat hypocatclub meo...</td>\n",
              "    </tr>\n",
              "    <tr>\n",
              "      <th>2</th>\n",
              "      <td>akter jahan</td>\n",
              "      <td>Top 10 Coins by Social Engagement over the las...</td>\n",
              "      <td>coins social engagement hrs lunarcrush btc bit...</td>\n",
              "    </tr>\n",
              "    <tr>\n",
              "      <th>3</th>\n",
              "      <td>riyan</td>\n",
              "      <td>Requesting faucet funds into 0x5278942b39deD8c...</td>\n",
              "      <td>requesting faucet funds xbdedcbdadeaecefdca ri...</td>\n",
              "    </tr>\n",
              "    <tr>\n",
              "      <th>4</th>\n",
              "      <td>Michelle Eriksen</td>\n",
              "      <td>New Listing BTS 0.008ETH !! \\n#NFTs  #nftcolle...</td>\n",
              "      <td>ew listing bts eth nfts nftcollector nftcommun...</td>\n",
              "    </tr>\n",
              "  </tbody>\n",
              "</table>\n",
              "</div>\n",
              "      <button class=\"colab-df-convert\" onclick=\"convertToInteractive('df-fe67473f-3feb-4aaf-b6c3-a1d069ad6a1b')\"\n",
              "              title=\"Convert this dataframe to an interactive table.\"\n",
              "              style=\"display:none;\">\n",
              "        \n",
              "  <svg xmlns=\"http://www.w3.org/2000/svg\" height=\"24px\"viewBox=\"0 0 24 24\"\n",
              "       width=\"24px\">\n",
              "    <path d=\"M0 0h24v24H0V0z\" fill=\"none\"/>\n",
              "    <path d=\"M18.56 5.44l.94 2.06.94-2.06 2.06-.94-2.06-.94-.94-2.06-.94 2.06-2.06.94zm-11 1L8.5 8.5l.94-2.06 2.06-.94-2.06-.94L8.5 2.5l-.94 2.06-2.06.94zm10 10l.94 2.06.94-2.06 2.06-.94-2.06-.94-.94-2.06-.94 2.06-2.06.94z\"/><path d=\"M17.41 7.96l-1.37-1.37c-.4-.4-.92-.59-1.43-.59-.52 0-1.04.2-1.43.59L10.3 9.45l-7.72 7.72c-.78.78-.78 2.05 0 2.83L4 21.41c.39.39.9.59 1.41.59.51 0 1.02-.2 1.41-.59l7.78-7.78 2.81-2.81c.8-.78.8-2.07 0-2.86zM5.41 20L4 18.59l7.72-7.72 1.47 1.35L5.41 20z\"/>\n",
              "  </svg>\n",
              "      </button>\n",
              "      \n",
              "  <style>\n",
              "    .colab-df-container {\n",
              "      display:flex;\n",
              "      flex-wrap:wrap;\n",
              "      gap: 12px;\n",
              "    }\n",
              "\n",
              "    .colab-df-convert {\n",
              "      background-color: #E8F0FE;\n",
              "      border: none;\n",
              "      border-radius: 50%;\n",
              "      cursor: pointer;\n",
              "      display: none;\n",
              "      fill: #1967D2;\n",
              "      height: 32px;\n",
              "      padding: 0 0 0 0;\n",
              "      width: 32px;\n",
              "    }\n",
              "\n",
              "    .colab-df-convert:hover {\n",
              "      background-color: #E2EBFA;\n",
              "      box-shadow: 0px 1px 2px rgba(60, 64, 67, 0.3), 0px 1px 3px 1px rgba(60, 64, 67, 0.15);\n",
              "      fill: #174EA6;\n",
              "    }\n",
              "\n",
              "    [theme=dark] .colab-df-convert {\n",
              "      background-color: #3B4455;\n",
              "      fill: #D2E3FC;\n",
              "    }\n",
              "\n",
              "    [theme=dark] .colab-df-convert:hover {\n",
              "      background-color: #434B5C;\n",
              "      box-shadow: 0px 1px 3px 1px rgba(0, 0, 0, 0.15);\n",
              "      filter: drop-shadow(0px 1px 2px rgba(0, 0, 0, 0.3));\n",
              "      fill: #FFFFFF;\n",
              "    }\n",
              "  </style>\n",
              "\n",
              "      <script>\n",
              "        const buttonEl =\n",
              "          document.querySelector('#df-fe67473f-3feb-4aaf-b6c3-a1d069ad6a1b button.colab-df-convert');\n",
              "        buttonEl.style.display =\n",
              "          google.colab.kernel.accessAllowed ? 'block' : 'none';\n",
              "\n",
              "        async function convertToInteractive(key) {\n",
              "          const element = document.querySelector('#df-fe67473f-3feb-4aaf-b6c3-a1d069ad6a1b');\n",
              "          const dataTable =\n",
              "            await google.colab.kernel.invokeFunction('convertToInteractive',\n",
              "                                                     [key], {});\n",
              "          if (!dataTable) return;\n",
              "\n",
              "          const docLinkHtml = 'Like what you see? Visit the ' +\n",
              "            '<a target=\"_blank\" href=https://colab.research.google.com/notebooks/data_table.ipynb>data table notebook</a>'\n",
              "            + ' to learn more about interactive tables.';\n",
              "          element.innerHTML = '';\n",
              "          dataTable['output_type'] = 'display_data';\n",
              "          await google.colab.output.renderOutput(dataTable, element);\n",
              "          const docLink = document.createElement('div');\n",
              "          docLink.innerHTML = docLinkHtml;\n",
              "          element.appendChild(docLink);\n",
              "        }\n",
              "      </script>\n",
              "    </div>\n",
              "  </div>\n",
              "  "
            ]
          },
          "metadata": {},
          "execution_count": 7
        }
      ]
    },
    {
      "cell_type": "code",
      "source": [
        "data = data.drop(data[[\"user_name\"]], axis = 1)\n",
        "data.head()"
      ],
      "metadata": {
        "colab": {
          "base_uri": "https://localhost:8080/",
          "height": 206
        },
        "id": "cJQC0qTK25or",
        "outputId": "8bb17df2-3de3-4874-b32a-aff96969d5b3"
      },
      "execution_count": 8,
      "outputs": [
        {
          "output_type": "execute_result",
          "data": {
            "text/plain": [
              "                                                text  \\\n",
              "0  Get upto 1000 that’s 10x with our premium spot...   \n",
              "1  Adopted a Hypocat #053, “Crazy Rich Cat” 🤑💵💵💵🤩...   \n",
              "2  Top 10 Coins by Social Engagement over the las...   \n",
              "3  Requesting faucet funds into 0x5278942b39deD8c...   \n",
              "4  New Listing BTS 0.008ETH !! \\n#NFTs  #nftcolle...   \n",
              "\n",
              "                                          clean_text  \n",
              "0  upto s x premium spot trading signals accurate...  \n",
              "1  adopted hypocat crazy rich cat hypocatclub meo...  \n",
              "2  coins social engagement hrs lunarcrush btc bit...  \n",
              "3  requesting faucet funds xbdedcbdadeaecefdca ri...  \n",
              "4  ew listing bts eth nfts nftcollector nftcommun...  "
            ],
            "text/html": [
              "\n",
              "  <div id=\"df-cd45066a-d3eb-48d9-9846-ab3210f1e0a7\">\n",
              "    <div class=\"colab-df-container\">\n",
              "      <div>\n",
              "<style scoped>\n",
              "    .dataframe tbody tr th:only-of-type {\n",
              "        vertical-align: middle;\n",
              "    }\n",
              "\n",
              "    .dataframe tbody tr th {\n",
              "        vertical-align: top;\n",
              "    }\n",
              "\n",
              "    .dataframe thead th {\n",
              "        text-align: right;\n",
              "    }\n",
              "</style>\n",
              "<table border=\"1\" class=\"dataframe\">\n",
              "  <thead>\n",
              "    <tr style=\"text-align: right;\">\n",
              "      <th></th>\n",
              "      <th>text</th>\n",
              "      <th>clean_text</th>\n",
              "    </tr>\n",
              "  </thead>\n",
              "  <tbody>\n",
              "    <tr>\n",
              "      <th>0</th>\n",
              "      <td>Get upto 1000 that’s 10x with our premium spot...</td>\n",
              "      <td>upto s x premium spot trading signals accurate...</td>\n",
              "    </tr>\n",
              "    <tr>\n",
              "      <th>1</th>\n",
              "      <td>Adopted a Hypocat #053, “Crazy Rich Cat” 🤑💵💵💵🤩...</td>\n",
              "      <td>adopted hypocat crazy rich cat hypocatclub meo...</td>\n",
              "    </tr>\n",
              "    <tr>\n",
              "      <th>2</th>\n",
              "      <td>Top 10 Coins by Social Engagement over the las...</td>\n",
              "      <td>coins social engagement hrs lunarcrush btc bit...</td>\n",
              "    </tr>\n",
              "    <tr>\n",
              "      <th>3</th>\n",
              "      <td>Requesting faucet funds into 0x5278942b39deD8c...</td>\n",
              "      <td>requesting faucet funds xbdedcbdadeaecefdca ri...</td>\n",
              "    </tr>\n",
              "    <tr>\n",
              "      <th>4</th>\n",
              "      <td>New Listing BTS 0.008ETH !! \\n#NFTs  #nftcolle...</td>\n",
              "      <td>ew listing bts eth nfts nftcollector nftcommun...</td>\n",
              "    </tr>\n",
              "  </tbody>\n",
              "</table>\n",
              "</div>\n",
              "      <button class=\"colab-df-convert\" onclick=\"convertToInteractive('df-cd45066a-d3eb-48d9-9846-ab3210f1e0a7')\"\n",
              "              title=\"Convert this dataframe to an interactive table.\"\n",
              "              style=\"display:none;\">\n",
              "        \n",
              "  <svg xmlns=\"http://www.w3.org/2000/svg\" height=\"24px\"viewBox=\"0 0 24 24\"\n",
              "       width=\"24px\">\n",
              "    <path d=\"M0 0h24v24H0V0z\" fill=\"none\"/>\n",
              "    <path d=\"M18.56 5.44l.94 2.06.94-2.06 2.06-.94-2.06-.94-.94-2.06-.94 2.06-2.06.94zm-11 1L8.5 8.5l.94-2.06 2.06-.94-2.06-.94L8.5 2.5l-.94 2.06-2.06.94zm10 10l.94 2.06.94-2.06 2.06-.94-2.06-.94-.94-2.06-.94 2.06-2.06.94z\"/><path d=\"M17.41 7.96l-1.37-1.37c-.4-.4-.92-.59-1.43-.59-.52 0-1.04.2-1.43.59L10.3 9.45l-7.72 7.72c-.78.78-.78 2.05 0 2.83L4 21.41c.39.39.9.59 1.41.59.51 0 1.02-.2 1.41-.59l7.78-7.78 2.81-2.81c.8-.78.8-2.07 0-2.86zM5.41 20L4 18.59l7.72-7.72 1.47 1.35L5.41 20z\"/>\n",
              "  </svg>\n",
              "      </button>\n",
              "      \n",
              "  <style>\n",
              "    .colab-df-container {\n",
              "      display:flex;\n",
              "      flex-wrap:wrap;\n",
              "      gap: 12px;\n",
              "    }\n",
              "\n",
              "    .colab-df-convert {\n",
              "      background-color: #E8F0FE;\n",
              "      border: none;\n",
              "      border-radius: 50%;\n",
              "      cursor: pointer;\n",
              "      display: none;\n",
              "      fill: #1967D2;\n",
              "      height: 32px;\n",
              "      padding: 0 0 0 0;\n",
              "      width: 32px;\n",
              "    }\n",
              "\n",
              "    .colab-df-convert:hover {\n",
              "      background-color: #E2EBFA;\n",
              "      box-shadow: 0px 1px 2px rgba(60, 64, 67, 0.3), 0px 1px 3px 1px rgba(60, 64, 67, 0.15);\n",
              "      fill: #174EA6;\n",
              "    }\n",
              "\n",
              "    [theme=dark] .colab-df-convert {\n",
              "      background-color: #3B4455;\n",
              "      fill: #D2E3FC;\n",
              "    }\n",
              "\n",
              "    [theme=dark] .colab-df-convert:hover {\n",
              "      background-color: #434B5C;\n",
              "      box-shadow: 0px 1px 3px 1px rgba(0, 0, 0, 0.15);\n",
              "      filter: drop-shadow(0px 1px 2px rgba(0, 0, 0, 0.3));\n",
              "      fill: #FFFFFF;\n",
              "    }\n",
              "  </style>\n",
              "\n",
              "      <script>\n",
              "        const buttonEl =\n",
              "          document.querySelector('#df-cd45066a-d3eb-48d9-9846-ab3210f1e0a7 button.colab-df-convert');\n",
              "        buttonEl.style.display =\n",
              "          google.colab.kernel.accessAllowed ? 'block' : 'none';\n",
              "\n",
              "        async function convertToInteractive(key) {\n",
              "          const element = document.querySelector('#df-cd45066a-d3eb-48d9-9846-ab3210f1e0a7');\n",
              "          const dataTable =\n",
              "            await google.colab.kernel.invokeFunction('convertToInteractive',\n",
              "                                                     [key], {});\n",
              "          if (!dataTable) return;\n",
              "\n",
              "          const docLinkHtml = 'Like what you see? Visit the ' +\n",
              "            '<a target=\"_blank\" href=https://colab.research.google.com/notebooks/data_table.ipynb>data table notebook</a>'\n",
              "            + ' to learn more about interactive tables.';\n",
              "          element.innerHTML = '';\n",
              "          dataTable['output_type'] = 'display_data';\n",
              "          await google.colab.output.renderOutput(dataTable, element);\n",
              "          const docLink = document.createElement('div');\n",
              "          docLink.innerHTML = docLinkHtml;\n",
              "          element.appendChild(docLink);\n",
              "        }\n",
              "      </script>\n",
              "    </div>\n",
              "  </div>\n",
              "  "
            ]
          },
          "metadata": {},
          "execution_count": 8
        }
      ]
    },
    {
      "cell_type": "markdown",
      "source": [
        "## DERIVING THE POLARITY & LABELS FOR DATA:"
      ],
      "metadata": {
        "id": "TBSxwAHo8MLb"
      }
    },
    {
      "cell_type": "code",
      "source": [
        "from textblob import TextBlob\n",
        "\n",
        "def finding_polarity(text):\n",
        "    clean_text = TextBlob(str(text))\n",
        "    pol = clean_text.sentiment.polarity\n",
        "    if(pol==0):\n",
        "        return \"Neutral\"\n",
        "    elif(pol>0 and pol<=0.3):\n",
        "        return \"Weakly Positive\"\n",
        "    elif(pol>0.3 and pol<=0.6):\n",
        "        return \"Positive\"\n",
        "    elif(pol>0.6 and pol<=1):\n",
        "        return \"Strongly Positive\"\n",
        "    elif(pol>-0.3 and pol<=0):\n",
        "        return \"Weakly Negative\"\n",
        "    elif(pol>-0.6 and pol<=-0.3):\n",
        "        return \"Negative\"\n",
        "    elif(pol>-1 and pol<=-0.6):\n",
        "        return \"Strongly Negative\""
      ],
      "metadata": {
        "id": "60z4c02e3DNc"
      },
      "execution_count": 9,
      "outputs": []
    },
    {
      "cell_type": "code",
      "source": [
        "data[\"polarity\"] = data[\"clean_text\"].apply(finding_polarity)\n",
        "data.head()"
      ],
      "metadata": {
        "colab": {
          "base_uri": "https://localhost:8080/",
          "height": 206
        },
        "id": "pjqaWaq43HyB",
        "outputId": "d7f42c12-0762-4634-8ba7-3b87383d8026"
      },
      "execution_count": 10,
      "outputs": [
        {
          "output_type": "execute_result",
          "data": {
            "text/plain": [
              "                                                text  \\\n",
              "0  Get upto 1000 that’s 10x with our premium spot...   \n",
              "1  Adopted a Hypocat #053, “Crazy Rich Cat” 🤑💵💵💵🤩...   \n",
              "2  Top 10 Coins by Social Engagement over the las...   \n",
              "3  Requesting faucet funds into 0x5278942b39deD8c...   \n",
              "4  New Listing BTS 0.008ETH !! \\n#NFTs  #nftcolle...   \n",
              "\n",
              "                                          clean_text         polarity  \n",
              "0  upto s x premium spot trading signals accurate...  Weakly Positive  \n",
              "1  adopted hypocat crazy rich cat hypocatclub meo...  Weakly Negative  \n",
              "2  coins social engagement hrs lunarcrush btc bit...  Weakly Positive  \n",
              "3  requesting faucet funds xbdedcbdadeaecefdca ri...          Neutral  \n",
              "4  ew listing bts eth nfts nftcollector nftcommun...          Neutral  "
            ],
            "text/html": [
              "\n",
              "  <div id=\"df-70a11cb2-b6df-4d0a-b36c-d75c44a23db2\">\n",
              "    <div class=\"colab-df-container\">\n",
              "      <div>\n",
              "<style scoped>\n",
              "    .dataframe tbody tr th:only-of-type {\n",
              "        vertical-align: middle;\n",
              "    }\n",
              "\n",
              "    .dataframe tbody tr th {\n",
              "        vertical-align: top;\n",
              "    }\n",
              "\n",
              "    .dataframe thead th {\n",
              "        text-align: right;\n",
              "    }\n",
              "</style>\n",
              "<table border=\"1\" class=\"dataframe\">\n",
              "  <thead>\n",
              "    <tr style=\"text-align: right;\">\n",
              "      <th></th>\n",
              "      <th>text</th>\n",
              "      <th>clean_text</th>\n",
              "      <th>polarity</th>\n",
              "    </tr>\n",
              "  </thead>\n",
              "  <tbody>\n",
              "    <tr>\n",
              "      <th>0</th>\n",
              "      <td>Get upto 1000 that’s 10x with our premium spot...</td>\n",
              "      <td>upto s x premium spot trading signals accurate...</td>\n",
              "      <td>Weakly Positive</td>\n",
              "    </tr>\n",
              "    <tr>\n",
              "      <th>1</th>\n",
              "      <td>Adopted a Hypocat #053, “Crazy Rich Cat” 🤑💵💵💵🤩...</td>\n",
              "      <td>adopted hypocat crazy rich cat hypocatclub meo...</td>\n",
              "      <td>Weakly Negative</td>\n",
              "    </tr>\n",
              "    <tr>\n",
              "      <th>2</th>\n",
              "      <td>Top 10 Coins by Social Engagement over the las...</td>\n",
              "      <td>coins social engagement hrs lunarcrush btc bit...</td>\n",
              "      <td>Weakly Positive</td>\n",
              "    </tr>\n",
              "    <tr>\n",
              "      <th>3</th>\n",
              "      <td>Requesting faucet funds into 0x5278942b39deD8c...</td>\n",
              "      <td>requesting faucet funds xbdedcbdadeaecefdca ri...</td>\n",
              "      <td>Neutral</td>\n",
              "    </tr>\n",
              "    <tr>\n",
              "      <th>4</th>\n",
              "      <td>New Listing BTS 0.008ETH !! \\n#NFTs  #nftcolle...</td>\n",
              "      <td>ew listing bts eth nfts nftcollector nftcommun...</td>\n",
              "      <td>Neutral</td>\n",
              "    </tr>\n",
              "  </tbody>\n",
              "</table>\n",
              "</div>\n",
              "      <button class=\"colab-df-convert\" onclick=\"convertToInteractive('df-70a11cb2-b6df-4d0a-b36c-d75c44a23db2')\"\n",
              "              title=\"Convert this dataframe to an interactive table.\"\n",
              "              style=\"display:none;\">\n",
              "        \n",
              "  <svg xmlns=\"http://www.w3.org/2000/svg\" height=\"24px\"viewBox=\"0 0 24 24\"\n",
              "       width=\"24px\">\n",
              "    <path d=\"M0 0h24v24H0V0z\" fill=\"none\"/>\n",
              "    <path d=\"M18.56 5.44l.94 2.06.94-2.06 2.06-.94-2.06-.94-.94-2.06-.94 2.06-2.06.94zm-11 1L8.5 8.5l.94-2.06 2.06-.94-2.06-.94L8.5 2.5l-.94 2.06-2.06.94zm10 10l.94 2.06.94-2.06 2.06-.94-2.06-.94-.94-2.06-.94 2.06-2.06.94z\"/><path d=\"M17.41 7.96l-1.37-1.37c-.4-.4-.92-.59-1.43-.59-.52 0-1.04.2-1.43.59L10.3 9.45l-7.72 7.72c-.78.78-.78 2.05 0 2.83L4 21.41c.39.39.9.59 1.41.59.51 0 1.02-.2 1.41-.59l7.78-7.78 2.81-2.81c.8-.78.8-2.07 0-2.86zM5.41 20L4 18.59l7.72-7.72 1.47 1.35L5.41 20z\"/>\n",
              "  </svg>\n",
              "      </button>\n",
              "      \n",
              "  <style>\n",
              "    .colab-df-container {\n",
              "      display:flex;\n",
              "      flex-wrap:wrap;\n",
              "      gap: 12px;\n",
              "    }\n",
              "\n",
              "    .colab-df-convert {\n",
              "      background-color: #E8F0FE;\n",
              "      border: none;\n",
              "      border-radius: 50%;\n",
              "      cursor: pointer;\n",
              "      display: none;\n",
              "      fill: #1967D2;\n",
              "      height: 32px;\n",
              "      padding: 0 0 0 0;\n",
              "      width: 32px;\n",
              "    }\n",
              "\n",
              "    .colab-df-convert:hover {\n",
              "      background-color: #E2EBFA;\n",
              "      box-shadow: 0px 1px 2px rgba(60, 64, 67, 0.3), 0px 1px 3px 1px rgba(60, 64, 67, 0.15);\n",
              "      fill: #174EA6;\n",
              "    }\n",
              "\n",
              "    [theme=dark] .colab-df-convert {\n",
              "      background-color: #3B4455;\n",
              "      fill: #D2E3FC;\n",
              "    }\n",
              "\n",
              "    [theme=dark] .colab-df-convert:hover {\n",
              "      background-color: #434B5C;\n",
              "      box-shadow: 0px 1px 3px 1px rgba(0, 0, 0, 0.15);\n",
              "      filter: drop-shadow(0px 1px 2px rgba(0, 0, 0, 0.3));\n",
              "      fill: #FFFFFF;\n",
              "    }\n",
              "  </style>\n",
              "\n",
              "      <script>\n",
              "        const buttonEl =\n",
              "          document.querySelector('#df-70a11cb2-b6df-4d0a-b36c-d75c44a23db2 button.colab-df-convert');\n",
              "        buttonEl.style.display =\n",
              "          google.colab.kernel.accessAllowed ? 'block' : 'none';\n",
              "\n",
              "        async function convertToInteractive(key) {\n",
              "          const element = document.querySelector('#df-70a11cb2-b6df-4d0a-b36c-d75c44a23db2');\n",
              "          const dataTable =\n",
              "            await google.colab.kernel.invokeFunction('convertToInteractive',\n",
              "                                                     [key], {});\n",
              "          if (!dataTable) return;\n",
              "\n",
              "          const docLinkHtml = 'Like what you see? Visit the ' +\n",
              "            '<a target=\"_blank\" href=https://colab.research.google.com/notebooks/data_table.ipynb>data table notebook</a>'\n",
              "            + ' to learn more about interactive tables.';\n",
              "          element.innerHTML = '';\n",
              "          dataTable['output_type'] = 'display_data';\n",
              "          await google.colab.output.renderOutput(dataTable, element);\n",
              "          const docLink = document.createElement('div');\n",
              "          docLink.innerHTML = docLinkHtml;\n",
              "          element.appendChild(docLink);\n",
              "        }\n",
              "      </script>\n",
              "    </div>\n",
              "  </div>\n",
              "  "
            ]
          },
          "metadata": {},
          "execution_count": 10
        }
      ]
    },
    {
      "cell_type": "code",
      "source": [
        "# categorizing the text\n",
        "\n",
        "from textblob import TextBlob\n",
        "\n",
        "def positive_negative(text):\n",
        "  clean_text = TextBlob(str(text))\n",
        "  pol = clean_text.sentiment.polarity\n",
        "\n",
        "  if(pol==0):\n",
        "    return 1\n",
        "  elif(pol>0 and pol<=0.3):\n",
        "    return 1\n",
        "  elif(pol>0.3 and pol<=0.6):\n",
        "    return 1\n",
        "  elif(pol>0.6 and pol<=1):\n",
        "    return 1\n",
        "  elif(pol>-0.3 and pol<=0):\n",
        "    return 0\n",
        "  elif(pol>-0.6 and pol<=-0.3):\n",
        "    return 0\n",
        "  elif(pol>-1 and pol<=-0.6):\n",
        "    return 0"
      ],
      "metadata": {
        "id": "Ii0XAZzn3RBK"
      },
      "execution_count": 11,
      "outputs": []
    },
    {
      "cell_type": "code",
      "source": [
        "data[\"label\"] = data[\"clean_text\"].apply(positive_negative)\n",
        "data = data.drop(data[[\"text\"]], axis = 1)\n",
        "data.head()"
      ],
      "metadata": {
        "colab": {
          "base_uri": "https://localhost:8080/",
          "height": 206
        },
        "id": "zjTjnm683iAa",
        "outputId": "2adaa943-b859-4757-cb00-1395fd350b47"
      },
      "execution_count": 12,
      "outputs": [
        {
          "output_type": "execute_result",
          "data": {
            "text/plain": [
              "                                          clean_text         polarity  label\n",
              "0  upto s x premium spot trading signals accurate...  Weakly Positive    1.0\n",
              "1  adopted hypocat crazy rich cat hypocatclub meo...  Weakly Negative    0.0\n",
              "2  coins social engagement hrs lunarcrush btc bit...  Weakly Positive    1.0\n",
              "3  requesting faucet funds xbdedcbdadeaecefdca ri...          Neutral    1.0\n",
              "4  ew listing bts eth nfts nftcollector nftcommun...          Neutral    1.0"
            ],
            "text/html": [
              "\n",
              "  <div id=\"df-6e8ff062-b88e-4bf5-8c76-5d0e0df4140e\">\n",
              "    <div class=\"colab-df-container\">\n",
              "      <div>\n",
              "<style scoped>\n",
              "    .dataframe tbody tr th:only-of-type {\n",
              "        vertical-align: middle;\n",
              "    }\n",
              "\n",
              "    .dataframe tbody tr th {\n",
              "        vertical-align: top;\n",
              "    }\n",
              "\n",
              "    .dataframe thead th {\n",
              "        text-align: right;\n",
              "    }\n",
              "</style>\n",
              "<table border=\"1\" class=\"dataframe\">\n",
              "  <thead>\n",
              "    <tr style=\"text-align: right;\">\n",
              "      <th></th>\n",
              "      <th>clean_text</th>\n",
              "      <th>polarity</th>\n",
              "      <th>label</th>\n",
              "    </tr>\n",
              "  </thead>\n",
              "  <tbody>\n",
              "    <tr>\n",
              "      <th>0</th>\n",
              "      <td>upto s x premium spot trading signals accurate...</td>\n",
              "      <td>Weakly Positive</td>\n",
              "      <td>1.0</td>\n",
              "    </tr>\n",
              "    <tr>\n",
              "      <th>1</th>\n",
              "      <td>adopted hypocat crazy rich cat hypocatclub meo...</td>\n",
              "      <td>Weakly Negative</td>\n",
              "      <td>0.0</td>\n",
              "    </tr>\n",
              "    <tr>\n",
              "      <th>2</th>\n",
              "      <td>coins social engagement hrs lunarcrush btc bit...</td>\n",
              "      <td>Weakly Positive</td>\n",
              "      <td>1.0</td>\n",
              "    </tr>\n",
              "    <tr>\n",
              "      <th>3</th>\n",
              "      <td>requesting faucet funds xbdedcbdadeaecefdca ri...</td>\n",
              "      <td>Neutral</td>\n",
              "      <td>1.0</td>\n",
              "    </tr>\n",
              "    <tr>\n",
              "      <th>4</th>\n",
              "      <td>ew listing bts eth nfts nftcollector nftcommun...</td>\n",
              "      <td>Neutral</td>\n",
              "      <td>1.0</td>\n",
              "    </tr>\n",
              "  </tbody>\n",
              "</table>\n",
              "</div>\n",
              "      <button class=\"colab-df-convert\" onclick=\"convertToInteractive('df-6e8ff062-b88e-4bf5-8c76-5d0e0df4140e')\"\n",
              "              title=\"Convert this dataframe to an interactive table.\"\n",
              "              style=\"display:none;\">\n",
              "        \n",
              "  <svg xmlns=\"http://www.w3.org/2000/svg\" height=\"24px\"viewBox=\"0 0 24 24\"\n",
              "       width=\"24px\">\n",
              "    <path d=\"M0 0h24v24H0V0z\" fill=\"none\"/>\n",
              "    <path d=\"M18.56 5.44l.94 2.06.94-2.06 2.06-.94-2.06-.94-.94-2.06-.94 2.06-2.06.94zm-11 1L8.5 8.5l.94-2.06 2.06-.94-2.06-.94L8.5 2.5l-.94 2.06-2.06.94zm10 10l.94 2.06.94-2.06 2.06-.94-2.06-.94-.94-2.06-.94 2.06-2.06.94z\"/><path d=\"M17.41 7.96l-1.37-1.37c-.4-.4-.92-.59-1.43-.59-.52 0-1.04.2-1.43.59L10.3 9.45l-7.72 7.72c-.78.78-.78 2.05 0 2.83L4 21.41c.39.39.9.59 1.41.59.51 0 1.02-.2 1.41-.59l7.78-7.78 2.81-2.81c.8-.78.8-2.07 0-2.86zM5.41 20L4 18.59l7.72-7.72 1.47 1.35L5.41 20z\"/>\n",
              "  </svg>\n",
              "      </button>\n",
              "      \n",
              "  <style>\n",
              "    .colab-df-container {\n",
              "      display:flex;\n",
              "      flex-wrap:wrap;\n",
              "      gap: 12px;\n",
              "    }\n",
              "\n",
              "    .colab-df-convert {\n",
              "      background-color: #E8F0FE;\n",
              "      border: none;\n",
              "      border-radius: 50%;\n",
              "      cursor: pointer;\n",
              "      display: none;\n",
              "      fill: #1967D2;\n",
              "      height: 32px;\n",
              "      padding: 0 0 0 0;\n",
              "      width: 32px;\n",
              "    }\n",
              "\n",
              "    .colab-df-convert:hover {\n",
              "      background-color: #E2EBFA;\n",
              "      box-shadow: 0px 1px 2px rgba(60, 64, 67, 0.3), 0px 1px 3px 1px rgba(60, 64, 67, 0.15);\n",
              "      fill: #174EA6;\n",
              "    }\n",
              "\n",
              "    [theme=dark] .colab-df-convert {\n",
              "      background-color: #3B4455;\n",
              "      fill: #D2E3FC;\n",
              "    }\n",
              "\n",
              "    [theme=dark] .colab-df-convert:hover {\n",
              "      background-color: #434B5C;\n",
              "      box-shadow: 0px 1px 3px 1px rgba(0, 0, 0, 0.15);\n",
              "      filter: drop-shadow(0px 1px 2px rgba(0, 0, 0, 0.3));\n",
              "      fill: #FFFFFF;\n",
              "    }\n",
              "  </style>\n",
              "\n",
              "      <script>\n",
              "        const buttonEl =\n",
              "          document.querySelector('#df-6e8ff062-b88e-4bf5-8c76-5d0e0df4140e button.colab-df-convert');\n",
              "        buttonEl.style.display =\n",
              "          google.colab.kernel.accessAllowed ? 'block' : 'none';\n",
              "\n",
              "        async function convertToInteractive(key) {\n",
              "          const element = document.querySelector('#df-6e8ff062-b88e-4bf5-8c76-5d0e0df4140e');\n",
              "          const dataTable =\n",
              "            await google.colab.kernel.invokeFunction('convertToInteractive',\n",
              "                                                     [key], {});\n",
              "          if (!dataTable) return;\n",
              "\n",
              "          const docLinkHtml = 'Like what you see? Visit the ' +\n",
              "            '<a target=\"_blank\" href=https://colab.research.google.com/notebooks/data_table.ipynb>data table notebook</a>'\n",
              "            + ' to learn more about interactive tables.';\n",
              "          element.innerHTML = '';\n",
              "          dataTable['output_type'] = 'display_data';\n",
              "          await google.colab.output.renderOutput(dataTable, element);\n",
              "          const docLink = document.createElement('div');\n",
              "          docLink.innerHTML = docLinkHtml;\n",
              "          element.appendChild(docLink);\n",
              "        }\n",
              "      </script>\n",
              "    </div>\n",
              "  </div>\n",
              "  "
            ]
          },
          "metadata": {},
          "execution_count": 12
        }
      ]
    },
    {
      "cell_type": "code",
      "source": [
        "data['label'].value_counts()"
      ],
      "metadata": {
        "colab": {
          "base_uri": "https://localhost:8080/"
        },
        "id": "Hu0lzYsA3yOD",
        "outputId": "d2157235-873d-4d08-a80a-7561c8590952"
      },
      "execution_count": 13,
      "outputs": [
        {
          "output_type": "execute_result",
          "data": {
            "text/plain": [
              "1.0    8282\n",
              "0.0    1640\n",
              "Name: label, dtype: int64"
            ]
          },
          "metadata": {},
          "execution_count": 13
        }
      ]
    },
    {
      "cell_type": "markdown",
      "source": [
        "## VECTORIZATION:"
      ],
      "metadata": {
        "id": "HD5n4g9k8WOa"
      }
    },
    {
      "cell_type": "code",
      "source": [
        "num_words = sum([len(word.split()) for word in data[\"clean_text\"]])\n",
        "num_words"
      ],
      "metadata": {
        "colab": {
          "base_uri": "https://localhost:8080/"
        },
        "id": "h5wh0ElR38rb",
        "outputId": "32be684c-00d2-47da-b44e-0ca27721d69f"
      },
      "execution_count": 14,
      "outputs": [
        {
          "output_type": "execute_result",
          "data": {
            "text/plain": [
              "176391"
            ]
          },
          "metadata": {},
          "execution_count": 14
        }
      ]
    },
    {
      "cell_type": "code",
      "source": [
        "from sklearn.feature_extraction.text import TfidfVectorizer\n",
        "Vectorizer = TfidfVectorizer(max_features= 3500)\n",
        "\n",
        "x = Vectorizer.fit_transform(data[\"clean_text\"]).toarray()\n",
        "\n",
        "y = data[\"label\"].values.astype(\"int\")"
      ],
      "metadata": {
        "id": "LARHrnpr4Mw4"
      },
      "execution_count": 15,
      "outputs": []
    },
    {
      "cell_type": "code",
      "source": [
        "print(x.shape)\n",
        "print(y.shape)"
      ],
      "metadata": {
        "colab": {
          "base_uri": "https://localhost:8080/"
        },
        "id": "1Upych4t44An",
        "outputId": "de66f0e1-d6cb-411e-e9e3-8c66cd86331b"
      },
      "execution_count": 16,
      "outputs": [
        {
          "output_type": "stream",
          "name": "stdout",
          "text": [
            "(10000, 3500)\n",
            "(10000,)\n"
          ]
        }
      ]
    },
    {
      "cell_type": "markdown",
      "source": [
        "## OBTAINING TRAIN-TEST DATA"
      ],
      "metadata": {
        "id": "MZs8W2yr8apa"
      }
    },
    {
      "cell_type": "code",
      "source": [
        "# splitting the data\n",
        "\n",
        "from sklearn.model_selection import train_test_split\n",
        "\n",
        "x_train, x_test, y_train, y_test = train_test_split(x,y, test_size= 0.2, random_state= 505)"
      ],
      "metadata": {
        "id": "X_J8WszS5E2B"
      },
      "execution_count": 17,
      "outputs": []
    },
    {
      "cell_type": "code",
      "source": [
        "print(x_train.shape),\n",
        "print(y_train.shape),\n",
        "print(x_test.shape),\n",
        "print(y_test.shape)"
      ],
      "metadata": {
        "colab": {
          "base_uri": "https://localhost:8080/"
        },
        "id": "gy1s8nab5KAz",
        "outputId": "ac7b0b10-9b18-4b4c-e08e-aeb24b99c35c"
      },
      "execution_count": 18,
      "outputs": [
        {
          "output_type": "stream",
          "name": "stdout",
          "text": [
            "(8000, 3500)\n",
            "(8000,)\n",
            "(2000, 3500)\n",
            "(2000,)\n"
          ]
        }
      ]
    },
    {
      "cell_type": "code",
      "source": [
        "data['label'].value_counts()"
      ],
      "metadata": {
        "colab": {
          "base_uri": "https://localhost:8080/"
        },
        "id": "Ajo5sLHm5bmf",
        "outputId": "8f551d9e-ce5e-4d45-8015-02fac0c5f96c"
      },
      "execution_count": 19,
      "outputs": [
        {
          "output_type": "execute_result",
          "data": {
            "text/plain": [
              "1.0    8282\n",
              "0.0    1640\n",
              "Name: label, dtype: int64"
            ]
          },
          "metadata": {},
          "execution_count": 19
        }
      ]
    },
    {
      "cell_type": "markdown",
      "source": [
        "## MODEL I : ComplementNB"
      ],
      "metadata": {
        "id": "79_wbUVN8pI2"
      }
    },
    {
      "cell_type": "code",
      "source": [
        "from sklearn.naive_bayes import ComplementNB\n",
        "clf_complement = ComplementNB()\n",
        "clf_complement.fit(x_train, y_train)"
      ],
      "metadata": {
        "colab": {
          "base_uri": "https://localhost:8080/",
          "height": 75
        },
        "id": "-Y4sf-Mi5_ii",
        "outputId": "ec897208-2999-474d-970c-be587fcf976e"
      },
      "execution_count": 22,
      "outputs": [
        {
          "output_type": "execute_result",
          "data": {
            "text/plain": [
              "ComplementNB()"
            ],
            "text/html": [
              "<style>#sk-container-id-2 {color: black;background-color: white;}#sk-container-id-2 pre{padding: 0;}#sk-container-id-2 div.sk-toggleable {background-color: white;}#sk-container-id-2 label.sk-toggleable__label {cursor: pointer;display: block;width: 100%;margin-bottom: 0;padding: 0.3em;box-sizing: border-box;text-align: center;}#sk-container-id-2 label.sk-toggleable__label-arrow:before {content: \"▸\";float: left;margin-right: 0.25em;color: #696969;}#sk-container-id-2 label.sk-toggleable__label-arrow:hover:before {color: black;}#sk-container-id-2 div.sk-estimator:hover label.sk-toggleable__label-arrow:before {color: black;}#sk-container-id-2 div.sk-toggleable__content {max-height: 0;max-width: 0;overflow: hidden;text-align: left;background-color: #f0f8ff;}#sk-container-id-2 div.sk-toggleable__content pre {margin: 0.2em;color: black;border-radius: 0.25em;background-color: #f0f8ff;}#sk-container-id-2 input.sk-toggleable__control:checked~div.sk-toggleable__content {max-height: 200px;max-width: 100%;overflow: auto;}#sk-container-id-2 input.sk-toggleable__control:checked~label.sk-toggleable__label-arrow:before {content: \"▾\";}#sk-container-id-2 div.sk-estimator input.sk-toggleable__control:checked~label.sk-toggleable__label {background-color: #d4ebff;}#sk-container-id-2 div.sk-label input.sk-toggleable__control:checked~label.sk-toggleable__label {background-color: #d4ebff;}#sk-container-id-2 input.sk-hidden--visually {border: 0;clip: rect(1px 1px 1px 1px);clip: rect(1px, 1px, 1px, 1px);height: 1px;margin: -1px;overflow: hidden;padding: 0;position: absolute;width: 1px;}#sk-container-id-2 div.sk-estimator {font-family: monospace;background-color: #f0f8ff;border: 1px dotted black;border-radius: 0.25em;box-sizing: border-box;margin-bottom: 0.5em;}#sk-container-id-2 div.sk-estimator:hover {background-color: #d4ebff;}#sk-container-id-2 div.sk-parallel-item::after {content: \"\";width: 100%;border-bottom: 1px solid gray;flex-grow: 1;}#sk-container-id-2 div.sk-label:hover label.sk-toggleable__label {background-color: #d4ebff;}#sk-container-id-2 div.sk-serial::before {content: \"\";position: absolute;border-left: 1px solid gray;box-sizing: border-box;top: 0;bottom: 0;left: 50%;z-index: 0;}#sk-container-id-2 div.sk-serial {display: flex;flex-direction: column;align-items: center;background-color: white;padding-right: 0.2em;padding-left: 0.2em;position: relative;}#sk-container-id-2 div.sk-item {position: relative;z-index: 1;}#sk-container-id-2 div.sk-parallel {display: flex;align-items: stretch;justify-content: center;background-color: white;position: relative;}#sk-container-id-2 div.sk-item::before, #sk-container-id-2 div.sk-parallel-item::before {content: \"\";position: absolute;border-left: 1px solid gray;box-sizing: border-box;top: 0;bottom: 0;left: 50%;z-index: -1;}#sk-container-id-2 div.sk-parallel-item {display: flex;flex-direction: column;z-index: 1;position: relative;background-color: white;}#sk-container-id-2 div.sk-parallel-item:first-child::after {align-self: flex-end;width: 50%;}#sk-container-id-2 div.sk-parallel-item:last-child::after {align-self: flex-start;width: 50%;}#sk-container-id-2 div.sk-parallel-item:only-child::after {width: 0;}#sk-container-id-2 div.sk-dashed-wrapped {border: 1px dashed gray;margin: 0 0.4em 0.5em 0.4em;box-sizing: border-box;padding-bottom: 0.4em;background-color: white;}#sk-container-id-2 div.sk-label label {font-family: monospace;font-weight: bold;display: inline-block;line-height: 1.2em;}#sk-container-id-2 div.sk-label-container {text-align: center;}#sk-container-id-2 div.sk-container {/* jupyter's `normalize.less` sets `[hidden] { display: none; }` but bootstrap.min.css set `[hidden] { display: none !important; }` so we also need the `!important` here to be able to override the default hidden behavior on the sphinx rendered scikit-learn.org. See: https://github.com/scikit-learn/scikit-learn/issues/21755 */display: inline-block !important;position: relative;}#sk-container-id-2 div.sk-text-repr-fallback {display: none;}</style><div id=\"sk-container-id-2\" class=\"sk-top-container\"><div class=\"sk-text-repr-fallback\"><pre>ComplementNB()</pre><b>In a Jupyter environment, please rerun this cell to show the HTML representation or trust the notebook. <br />On GitHub, the HTML representation is unable to render, please try loading this page with nbviewer.org.</b></div><div class=\"sk-container\" hidden><div class=\"sk-item\"><div class=\"sk-estimator sk-toggleable\"><input class=\"sk-toggleable__control sk-hidden--visually\" id=\"sk-estimator-id-2\" type=\"checkbox\" checked><label for=\"sk-estimator-id-2\" class=\"sk-toggleable__label sk-toggleable__label-arrow\">ComplementNB</label><div class=\"sk-toggleable__content\"><pre>ComplementNB()</pre></div></div></div></div></div>"
            ]
          },
          "metadata": {},
          "execution_count": 22
        }
      ]
    },
    {
      "cell_type": "code",
      "source": [
        "print(f\"Training Accuracy : {clf_complement.score(x_train,y_train) * 100 : 0.2f} %\")\n",
        "print(f\"Test Accuracy : {clf_complement.score(x_test,y_test)* 100 : 0.2f} %\")"
      ],
      "metadata": {
        "colab": {
          "base_uri": "https://localhost:8080/"
        },
        "id": "2roUgoWX6M0R",
        "outputId": "23fa5f5e-41e5-41a2-bbd0-2d7389dce01b"
      },
      "execution_count": 23,
      "outputs": [
        {
          "output_type": "stream",
          "name": "stdout",
          "text": [
            "Training Accuracy :  89.39 %\n",
            "Test Accuracy :  85.85 %\n"
          ]
        }
      ]
    },
    {
      "cell_type": "markdown",
      "source": [
        "## MODEL II : SUPPORT VECTOR MACHINE"
      ],
      "metadata": {
        "id": "uPTdsY6x8wRE"
      }
    },
    {
      "cell_type": "code",
      "source": [
        "from sklearn.svm import SVC\n",
        "\n",
        "svc_model = SVC(class_weight='balanced')\n",
        "\n",
        "svc_model.fit(x_test,y_test)\n",
        "\n",
        "print(f\"Training Accuracy: {svc_model.score(x_train, y_train)*100 : 0.2f} %\")\n",
        "print(f\"Test Accuracy: {svc_model.score(x_test,y_test) * 100 : 0.2f} %\")"
      ],
      "metadata": {
        "colab": {
          "base_uri": "https://localhost:8080/"
        },
        "id": "kbfvF1BN5az9",
        "outputId": "7510cc86-afba-44aa-9a00-c542a891e9ed"
      },
      "execution_count": 25,
      "outputs": [
        {
          "output_type": "stream",
          "name": "stdout",
          "text": [
            "Training Accuracy:  94.31 %\n",
            "Test Accuracy:  99.55 %\n"
          ]
        }
      ]
    },
    {
      "cell_type": "code",
      "source": [
        "y_pred = svc_model.predict(x_test)\n",
        "\n",
        "from sklearn.metrics import accuracy_score\n",
        "print(accuracy_score(y_test, y_pred))"
      ],
      "metadata": {
        "colab": {
          "base_uri": "https://localhost:8080/"
        },
        "id": "yaDfM6ea9FZX",
        "outputId": "e7defabb-758c-43f9-b7f3-c7d4935f8ce2"
      },
      "execution_count": 28,
      "outputs": [
        {
          "output_type": "stream",
          "name": "stdout",
          "text": [
            "0.9955\n"
          ]
        }
      ]
    }
  ]
}